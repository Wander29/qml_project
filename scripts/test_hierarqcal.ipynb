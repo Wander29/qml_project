{
 "cells": [
  {
   "cell_type": "code",
   "execution_count": 2,
   "metadata": {},
   "outputs": [],
   "source": [
    "import numpy as np\n",
    "import sympy as sp\n",
    "import matplotlib.pyplot as plt\n",
    "from hierarqcal import (\n",
    "    Qhierarchy,\n",
    "    Qcycle,\n",
    "    Qpermute,\n",
    "    Qmask,\n",
    "    Qunmask,\n",
    "    Qpivot,\n",
    "    Qinit,\n",
    "    Qmotif,\n",
    "    Qmotifs,\n",
    "    plot_motif,\n",
    "    plot_circuit,\n",
    "    Qunitary,\n",
    ")\n",
    "from pennylane import AngleEmbedding\n",
    "import pennylane as qml\n",
    "from hierarqcal.pennylane.pennylane_circuits import V2, U2, V4\n"
   ]
  },
  {
   "cell_type": "code",
   "execution_count": 8,
   "metadata": {},
   "outputs": [],
   "source": [
    "def ansatz_pool_2(bits, symbols=None):\n",
    "    qml.CNOT(wires=[bits[0], bits[1]])\n",
    "U_ansatz_pool_2 = Qunitary(ansatz_pool_2, n_symbols=0, arity=2)\n"
   ]
  },
  {
   "cell_type": "code",
   "execution_count": 34,
   "metadata": {},
   "outputs": [
    {
     "ename": "TypeError",
     "evalue": "Qmotif.__init__() got an unexpected keyword argument 'step'",
     "output_type": "error",
     "traceback": [
      "\u001b[0;31m---------------------------------------------------------------------------\u001b[0m",
      "\u001b[0;31mTypeError\u001b[0m                                 Traceback (most recent call last)",
      "\u001b[1;32m/home/ludovicowan/Dev/uni/qml/qml-project/scripts/test_hierarqcal.ipynb Cell 3\u001b[0m line \u001b[0;36m1\n\u001b[0;32m----> <a href='vscode-notebook-cell:/home/ludovicowan/Dev/uni/qml/qml-project/scripts/test_hierarqcal.ipynb#W1sZmlsZQ%3D%3D?line=0'>1</a>\u001b[0m mask \u001b[39m=\u001b[39m Qinit(\u001b[39m8\u001b[39m) \u001b[39m+\u001b[39m Qmask(\u001b[39m\"\u001b[39m\u001b[39m10\u001b[39m\u001b[39m\"\u001b[39m, mapping\u001b[39m=\u001b[39mU_ansatz_pool_2, strides\u001b[39m=\u001b[39m\u001b[39m0\u001b[39m, step\u001b[39m=\u001b[39m\u001b[39m1\u001b[39m)\n\u001b[1;32m      <a href='vscode-notebook-cell:/home/ludovicowan/Dev/uni/qml/qml-project/scripts/test_hierarqcal.ipynb#W1sZmlsZQ%3D%3D?line=1'>2</a>\u001b[0m plot_motif(mask[\u001b[39m1\u001b[39m])\n\u001b[1;32m      <a href='vscode-notebook-cell:/home/ludovicowan/Dev/uni/qml/qml-project/scripts/test_hierarqcal.ipynb#W1sZmlsZQ%3D%3D?line=2'>3</a>\u001b[0m plot_circuit(mask)\n",
      "File \u001b[0;32m~/Dev/git/hierarqcal/hierarqcal/core.py:1028\u001b[0m, in \u001b[0;36mQmask.__init__\u001b[0;34m(self, global_pattern, merge_within, merge_between, strides, steps, offsets, boundaries, **kwargs)\u001b[0m\n\u001b[1;32m   1026\u001b[0m \u001b[39mif\u001b[39;00m \u001b[39misinstance\u001b[39m(offsets, \u001b[39mint\u001b[39m):\n\u001b[1;32m   1027\u001b[0m     offsets \u001b[39m=\u001b[39m [offsets] \u001b[39m*\u001b[39m \u001b[39m3\u001b[39m\n\u001b[0;32m-> 1028\u001b[0m \u001b[39msuper\u001b[39m()\u001b[39m.\u001b[39m\u001b[39m__init__\u001b[39m(\n\u001b[1;32m   1029\u001b[0m     global_pattern\u001b[39m=\u001b[39mglobal_pattern,\n\u001b[1;32m   1030\u001b[0m     merge_within\u001b[39m=\u001b[39mmerge_within,\n\u001b[1;32m   1031\u001b[0m     merge_between\u001b[39m=\u001b[39mmerge_between,\n\u001b[1;32m   1032\u001b[0m     strides\u001b[39m=\u001b[39mstrides,\n\u001b[1;32m   1033\u001b[0m     steps\u001b[39m=\u001b[39msteps,\n\u001b[1;32m   1034\u001b[0m     offsets\u001b[39m=\u001b[39moffsets,\n\u001b[1;32m   1035\u001b[0m     boundaries\u001b[39m=\u001b[39mboundaries,\n\u001b[1;32m   1036\u001b[0m     mask\u001b[39m=\u001b[39m\u001b[39mTrue\u001b[39;00m,\n\u001b[1;32m   1037\u001b[0m     \u001b[39mtype\u001b[39m\u001b[39m=\u001b[39mPrimitive_Types\u001b[39m.\u001b[39mMASK,\n\u001b[1;32m   1038\u001b[0m     \u001b[39m*\u001b[39m\u001b[39m*\u001b[39mkwargs,\n\u001b[1;32m   1039\u001b[0m )\n",
      "File \u001b[0;32m~/Dev/git/hierarqcal/hierarqcal/core.py:824\u001b[0m, in \u001b[0;36mQsplit.__init__\u001b[0;34m(self, global_pattern, merge_within, merge_between, mask, strides, steps, offsets, boundaries, type, **kwargs)\u001b[0m\n\u001b[1;32m    822\u001b[0m is_default_mapping \u001b[39m=\u001b[39m \u001b[39mTrue\u001b[39;00m \u001b[39mif\u001b[39;00m mapping \u001b[39mis\u001b[39;00m \u001b[39mNone\u001b[39;00m \u001b[39melse\u001b[39;00m \u001b[39mFalse\u001b[39;00m\n\u001b[1;32m    823\u001b[0m \u001b[39m# Initialize Qmotif\u001b[39;00m\n\u001b[0;32m--> 824\u001b[0m \u001b[39msuper\u001b[39m()\u001b[39m.\u001b[39m\u001b[39m__init__\u001b[39m(is_default_mapping\u001b[39m=\u001b[39mis_default_mapping, \u001b[39mtype\u001b[39m\u001b[39m=\u001b[39m\u001b[39mtype\u001b[39m, \u001b[39m*\u001b[39m\u001b[39m*\u001b[39mkwargs)\n",
      "\u001b[0;31mTypeError\u001b[0m: Qmotif.__init__() got an unexpected keyword argument 'step'"
     ]
    }
   ],
   "source": [
    "mask = Qinit(8) + Qmask(\"10\", mapping=U_ansatz_pool_2, strides=0)\n",
    "plot_motif(mask[1])\n",
    "plot_circuit(mask)"
   ]
  }
 ],
 "metadata": {
  "kernelspec": {
   "display_name": "qiskit-env",
   "language": "python",
   "name": "qiskit-env"
  },
  "language_info": {
   "codemirror_mode": {
    "name": "ipython",
    "version": 3
   },
   "file_extension": ".py",
   "mimetype": "text/x-python",
   "name": "python",
   "nbconvert_exporter": "python",
   "pygments_lexer": "ipython3",
   "version": "3.11.5"
  }
 },
 "nbformat": 4,
 "nbformat_minor": 2
}
